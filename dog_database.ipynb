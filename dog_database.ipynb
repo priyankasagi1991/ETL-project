{
 "cells": [
  {
   "cell_type": "code",
   "execution_count": 2,
   "metadata": {},
   "outputs": [],
   "source": [
    "# Dependencies\n",
    "import pandas as pd\n",
    "from sqlalchemy import create_engine"
   ]
  },
  {
   "cell_type": "markdown",
   "metadata": {},
   "source": [
    "### Store CSV into DataFrame"
   ]
  },
  {
   "cell_type": "code",
   "execution_count": 3,
   "metadata": {},
   "outputs": [
    {
     "data": {
      "text/html": [
       "<div>\n",
       "<style scoped>\n",
       "    .dataframe tbody tr th:only-of-type {\n",
       "        vertical-align: middle;\n",
       "    }\n",
       "\n",
       "    .dataframe tbody tr th {\n",
       "        vertical-align: top;\n",
       "    }\n",
       "\n",
       "    .dataframe thead th {\n",
       "        text-align: right;\n",
       "    }\n",
       "</style>\n",
       "<table border=\"1\" class=\"dataframe\">\n",
       "  <thead>\n",
       "    <tr style=\"text-align: right;\">\n",
       "      <th></th>\n",
       "      <th>LicenseType</th>\n",
       "      <th>Breed</th>\n",
       "      <th>Color</th>\n",
       "      <th>DogName</th>\n",
       "      <th>OwnerZip</th>\n",
       "      <th>ExpYear</th>\n",
       "      <th>ValidDate</th>\n",
       "    </tr>\n",
       "  </thead>\n",
       "  <tbody>\n",
       "    <tr>\n",
       "      <th>0</th>\n",
       "      <td>Dog Individual Spayed Female</td>\n",
       "      <td>BICHON FRISE</td>\n",
       "      <td>WHITE</td>\n",
       "      <td>CHLOE</td>\n",
       "      <td>15090</td>\n",
       "      <td>2017</td>\n",
       "      <td>12/15/2016 9:58</td>\n",
       "    </tr>\n",
       "    <tr>\n",
       "      <th>1</th>\n",
       "      <td>Dog Senior Citizen or Disability Spayed Female</td>\n",
       "      <td>CHIHUAHUA</td>\n",
       "      <td>WHITE/BLACK/BROWN</td>\n",
       "      <td>CHALUPA</td>\n",
       "      <td>15120</td>\n",
       "      <td>2017</td>\n",
       "      <td>3/23/2017 14:32</td>\n",
       "    </tr>\n",
       "    <tr>\n",
       "      <th>2</th>\n",
       "      <td>Dog Individual Spayed Female</td>\n",
       "      <td>LAB MIX</td>\n",
       "      <td>YELLOW</td>\n",
       "      <td>MIA</td>\n",
       "      <td>15133</td>\n",
       "      <td>2017</td>\n",
       "      <td>2/28/2017 10:59</td>\n",
       "    </tr>\n",
       "    <tr>\n",
       "      <th>3</th>\n",
       "      <td>Dog Individual Male</td>\n",
       "      <td>DACHSHUND</td>\n",
       "      <td>BLACK/BROWN/GREY</td>\n",
       "      <td>CODY</td>\n",
       "      <td>15108</td>\n",
       "      <td>2017</td>\n",
       "      <td>2/9/2017 13:40</td>\n",
       "    </tr>\n",
       "    <tr>\n",
       "      <th>4</th>\n",
       "      <td>Dog Individual Spayed Female</td>\n",
       "      <td>DACHSHUND</td>\n",
       "      <td>BLACK</td>\n",
       "      <td>SOPHIE</td>\n",
       "      <td>15108</td>\n",
       "      <td>2017</td>\n",
       "      <td>2/9/2017 13:40</td>\n",
       "    </tr>\n",
       "  </tbody>\n",
       "</table>\n",
       "</div>"
      ],
      "text/plain": [
       "                                      LicenseType         Breed  \\\n",
       "0                    Dog Individual Spayed Female  BICHON FRISE   \n",
       "1  Dog Senior Citizen or Disability Spayed Female     CHIHUAHUA   \n",
       "2                    Dog Individual Spayed Female       LAB MIX   \n",
       "3                             Dog Individual Male     DACHSHUND   \n",
       "4                    Dog Individual Spayed Female     DACHSHUND   \n",
       "\n",
       "               Color  DogName  OwnerZip  ExpYear        ValidDate  \n",
       "0              WHITE    CHLOE     15090     2017  12/15/2016 9:58  \n",
       "1  WHITE/BLACK/BROWN  CHALUPA     15120     2017  3/23/2017 14:32  \n",
       "2             YELLOW      MIA     15133     2017  2/28/2017 10:59  \n",
       "3   BLACK/BROWN/GREY     CODY     15108     2017   2/9/2017 13:40  \n",
       "4              BLACK   SOPHIE     15108     2017   2/9/2017 13:40  "
      ]
     },
     "execution_count": 3,
     "metadata": {},
     "output_type": "execute_result"
    }
   ],
   "source": [
    "csv_file = \"2017.csv\"\n",
    "dog_df = pd.read_csv(csv_file)\n",
    "dog_df.head()"
   ]
  },
  {
   "cell_type": "markdown",
   "metadata": {},
   "source": [
    "### Create new data with select columns"
   ]
  },
  {
   "cell_type": "code",
   "execution_count": 4,
   "metadata": {},
   "outputs": [
    {
     "data": {
      "text/html": [
       "<div>\n",
       "<style scoped>\n",
       "    .dataframe tbody tr th:only-of-type {\n",
       "        vertical-align: middle;\n",
       "    }\n",
       "\n",
       "    .dataframe tbody tr th {\n",
       "        vertical-align: top;\n",
       "    }\n",
       "\n",
       "    .dataframe thead th {\n",
       "        text-align: right;\n",
       "    }\n",
       "</style>\n",
       "<table border=\"1\" class=\"dataframe\">\n",
       "  <thead>\n",
       "    <tr style=\"text-align: right;\">\n",
       "      <th></th>\n",
       "      <th>Breed</th>\n",
       "      <th>Color</th>\n",
       "      <th>DogName</th>\n",
       "    </tr>\n",
       "  </thead>\n",
       "  <tbody>\n",
       "    <tr>\n",
       "      <th>0</th>\n",
       "      <td>BICHON FRISE</td>\n",
       "      <td>WHITE</td>\n",
       "      <td>CHLOE</td>\n",
       "    </tr>\n",
       "    <tr>\n",
       "      <th>1</th>\n",
       "      <td>CHIHUAHUA</td>\n",
       "      <td>WHITE/BLACK/BROWN</td>\n",
       "      <td>CHALUPA</td>\n",
       "    </tr>\n",
       "    <tr>\n",
       "      <th>2</th>\n",
       "      <td>LAB MIX</td>\n",
       "      <td>YELLOW</td>\n",
       "      <td>MIA</td>\n",
       "    </tr>\n",
       "    <tr>\n",
       "      <th>3</th>\n",
       "      <td>DACHSHUND</td>\n",
       "      <td>BLACK/BROWN/GREY</td>\n",
       "      <td>CODY</td>\n",
       "    </tr>\n",
       "    <tr>\n",
       "      <th>4</th>\n",
       "      <td>DACHSHUND</td>\n",
       "      <td>BLACK</td>\n",
       "      <td>SOPHIE</td>\n",
       "    </tr>\n",
       "  </tbody>\n",
       "</table>\n",
       "</div>"
      ],
      "text/plain": [
       "          Breed              Color  DogName\n",
       "0  BICHON FRISE              WHITE    CHLOE\n",
       "1     CHIHUAHUA  WHITE/BLACK/BROWN  CHALUPA\n",
       "2       LAB MIX             YELLOW      MIA\n",
       "3     DACHSHUND   BLACK/BROWN/GREY     CODY\n",
       "4     DACHSHUND              BLACK   SOPHIE"
      ]
     },
     "execution_count": 4,
     "metadata": {},
     "output_type": "execute_result"
    }
   ],
   "source": [
    "new_dog_df = dog_df[['Breed', 'Color', 'DogName']].copy()\n",
    "new_dog_df.head()"
   ]
  },
  {
   "cell_type": "markdown",
   "metadata": {},
   "source": [
    "### Transform Dog DataFrame"
   ]
  },
  {
   "cell_type": "code",
   "execution_count": 5,
   "metadata": {},
   "outputs": [
    {
     "data": {
      "text/html": [
       "<div>\n",
       "<style scoped>\n",
       "    .dataframe tbody tr th:only-of-type {\n",
       "        vertical-align: middle;\n",
       "    }\n",
       "\n",
       "    .dataframe tbody tr th {\n",
       "        vertical-align: top;\n",
       "    }\n",
       "\n",
       "    .dataframe thead th {\n",
       "        text-align: right;\n",
       "    }\n",
       "</style>\n",
       "<table border=\"1\" class=\"dataframe\">\n",
       "  <thead>\n",
       "    <tr style=\"text-align: right;\">\n",
       "      <th></th>\n",
       "      <th>dog_breed</th>\n",
       "      <th>dog_color</th>\n",
       "      <th>dog_name</th>\n",
       "    </tr>\n",
       "  </thead>\n",
       "  <tbody>\n",
       "    <tr>\n",
       "      <th>0</th>\n",
       "      <td>BICHON FRISE</td>\n",
       "      <td>WHITE</td>\n",
       "      <td>CHLOE</td>\n",
       "    </tr>\n",
       "    <tr>\n",
       "      <th>1</th>\n",
       "      <td>CHIHUAHUA</td>\n",
       "      <td>WHITE/BLACK/BROWN</td>\n",
       "      <td>CHALUPA</td>\n",
       "    </tr>\n",
       "    <tr>\n",
       "      <th>2</th>\n",
       "      <td>LAB MIX</td>\n",
       "      <td>YELLOW</td>\n",
       "      <td>MIA</td>\n",
       "    </tr>\n",
       "    <tr>\n",
       "      <th>3</th>\n",
       "      <td>DACHSHUND</td>\n",
       "      <td>BLACK/BROWN/GREY</td>\n",
       "      <td>CODY</td>\n",
       "    </tr>\n",
       "    <tr>\n",
       "      <th>4</th>\n",
       "      <td>DACHSHUND</td>\n",
       "      <td>BLACK</td>\n",
       "      <td>SOPHIE</td>\n",
       "    </tr>\n",
       "  </tbody>\n",
       "</table>\n",
       "</div>"
      ],
      "text/plain": [
       "      dog_breed          dog_color dog_name\n",
       "0  BICHON FRISE              WHITE    CHLOE\n",
       "1     CHIHUAHUA  WHITE/BLACK/BROWN  CHALUPA\n",
       "2       LAB MIX             YELLOW      MIA\n",
       "3     DACHSHUND   BLACK/BROWN/GREY     CODY\n",
       "4     DACHSHUND              BLACK   SOPHIE"
      ]
     },
     "execution_count": 5,
     "metadata": {},
     "output_type": "execute_result"
    }
   ],
   "source": [
    "# Rename the column headers\n",
    "new_dog_df = new_dog_df.rename(columns={\"Breed\": \"dog_breed\",\n",
    "                                                         \"Color\": \"dog_color\",\n",
    "                                                         \"DogName\": \"dog_name\"})\n",
    "\n",
    "new_dog_df.head()"
   ]
  },
  {
   "cell_type": "markdown",
   "metadata": {},
   "source": [
    "### Create database connection"
   ]
  },
  {
   "cell_type": "code",
   "execution_count": 6,
   "metadata": {},
   "outputs": [],
   "source": [
    "connection_string = \"postgres:postgres@localhost:5432/DogDB\"\n",
    "engine = create_engine(f'postgresql://{connection_string}')"
   ]
  },
  {
   "cell_type": "code",
   "execution_count": 7,
   "metadata": {},
   "outputs": [
    {
     "data": {
      "text/plain": [
       "[]"
      ]
     },
     "execution_count": 7,
     "metadata": {},
     "output_type": "execute_result"
    }
   ],
   "source": [
    "# Confirm tables\n",
    "engine.table_names()"
   ]
  },
  {
   "cell_type": "markdown",
   "metadata": {},
   "source": [
    "### Load DataFrames into database"
   ]
  },
  {
   "cell_type": "code",
   "execution_count": 8,
   "metadata": {},
   "outputs": [],
   "source": [
    "new_dog_df.to_sql(name='dog_2017', con=engine, if_exists='append', index=True)"
   ]
  },
  {
   "cell_type": "markdown",
   "metadata": {},
   "source": [
    "### Confirm data has been added by querying the data tables"
   ]
  },
  {
   "cell_type": "code",
   "execution_count": 9,
   "metadata": {},
   "outputs": [
    {
     "data": {
      "text/html": [
       "<div>\n",
       "<style scoped>\n",
       "    .dataframe tbody tr th:only-of-type {\n",
       "        vertical-align: middle;\n",
       "    }\n",
       "\n",
       "    .dataframe tbody tr th {\n",
       "        vertical-align: top;\n",
       "    }\n",
       "\n",
       "    .dataframe thead th {\n",
       "        text-align: right;\n",
       "    }\n",
       "</style>\n",
       "<table border=\"1\" class=\"dataframe\">\n",
       "  <thead>\n",
       "    <tr style=\"text-align: right;\">\n",
       "      <th></th>\n",
       "      <th>index</th>\n",
       "      <th>dog_breed</th>\n",
       "      <th>dog_color</th>\n",
       "      <th>dog_name</th>\n",
       "    </tr>\n",
       "  </thead>\n",
       "  <tbody>\n",
       "    <tr>\n",
       "      <th>0</th>\n",
       "      <td>0</td>\n",
       "      <td>BICHON FRISE</td>\n",
       "      <td>WHITE</td>\n",
       "      <td>CHLOE</td>\n",
       "    </tr>\n",
       "    <tr>\n",
       "      <th>1</th>\n",
       "      <td>1</td>\n",
       "      <td>CHIHUAHUA</td>\n",
       "      <td>WHITE/BLACK/BROWN</td>\n",
       "      <td>CHALUPA</td>\n",
       "    </tr>\n",
       "    <tr>\n",
       "      <th>2</th>\n",
       "      <td>2</td>\n",
       "      <td>LAB MIX</td>\n",
       "      <td>YELLOW</td>\n",
       "      <td>MIA</td>\n",
       "    </tr>\n",
       "    <tr>\n",
       "      <th>3</th>\n",
       "      <td>3</td>\n",
       "      <td>DACHSHUND</td>\n",
       "      <td>BLACK/BROWN/GREY</td>\n",
       "      <td>CODY</td>\n",
       "    </tr>\n",
       "    <tr>\n",
       "      <th>4</th>\n",
       "      <td>4</td>\n",
       "      <td>DACHSHUND</td>\n",
       "      <td>BLACK</td>\n",
       "      <td>SOPHIE</td>\n",
       "    </tr>\n",
       "  </tbody>\n",
       "</table>\n",
       "</div>"
      ],
      "text/plain": [
       "   index     dog_breed          dog_color dog_name\n",
       "0      0  BICHON FRISE              WHITE    CHLOE\n",
       "1      1     CHIHUAHUA  WHITE/BLACK/BROWN  CHALUPA\n",
       "2      2       LAB MIX             YELLOW      MIA\n",
       "3      3     DACHSHUND   BLACK/BROWN/GREY     CODY\n",
       "4      4     DACHSHUND              BLACK   SOPHIE"
      ]
     },
     "execution_count": 9,
     "metadata": {},
     "output_type": "execute_result"
    }
   ],
   "source": [
    "pd.read_sql_query('select * from dog_2017', con=engine).head()"
   ]
  },
  {
   "cell_type": "code",
   "execution_count": null,
   "metadata": {},
   "outputs": [],
   "source": [
    "\n"
   ]
  }
 ],
 "metadata": {
  "kernelspec": {
   "display_name": "Python 3",
   "language": "python",
   "name": "python3"
  },
  "language_info": {
   "codemirror_mode": {
    "name": "ipython",
    "version": 3
   },
   "file_extension": ".py",
   "mimetype": "text/x-python",
   "name": "python",
   "nbconvert_exporter": "python",
   "pygments_lexer": "ipython3",
   "version": "3.7.3"
  }
 },
 "nbformat": 4,
 "nbformat_minor": 2
}
